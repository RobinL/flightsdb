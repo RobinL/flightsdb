{
 "cells": [
  {
   "cell_type": "code",
   "execution_count": 1,
   "metadata": {},
   "outputs": [],
   "source": [
    "import pandas as pd "
   ]
  },
  {
   "cell_type": "code",
   "execution_count": 20,
   "metadata": {},
   "outputs": [
    {
     "data": {
      "text/html": [
       "<div>\n",
       "<style>\n",
       "    .dataframe thead tr:only-child th {\n",
       "        text-align: right;\n",
       "    }\n",
       "\n",
       "    .dataframe thead th {\n",
       "        text-align: left;\n",
       "    }\n",
       "\n",
       "    .dataframe tbody tr th {\n",
       "        vertical-align: top;\n",
       "    }\n",
       "</style>\n",
       "<table border=\"1\" class=\"dataframe\">\n",
       "  <thead>\n",
       "    <tr style=\"text-align: right;\">\n",
       "      <th></th>\n",
       "      <th>var_name</th>\n",
       "      <th>desc</th>\n",
       "      <th>name_cleaned</th>\n",
       "    </tr>\n",
       "  </thead>\n",
       "  <tbody>\n",
       "    <tr>\n",
       "      <th>0</th>\n",
       "      <td>Year</td>\n",
       "      <td>1987-2008</td>\n",
       "      <td>year</td>\n",
       "    </tr>\n",
       "    <tr>\n",
       "      <th>1</th>\n",
       "      <td>Month</td>\n",
       "      <td>1-12</td>\n",
       "      <td>month</td>\n",
       "    </tr>\n",
       "  </tbody>\n",
       "</table>\n",
       "</div>"
      ],
      "text/plain": [
       "  var_name       desc name_cleaned\n",
       "0     Year  1987-2008         year\n",
       "1    Month       1-12        month"
      ]
     },
     "execution_count": 20,
     "metadata": {},
     "output_type": "execute_result"
    }
   ],
   "source": [
    "metadata = pd.read_csv(\"metadata.csv\")\n",
    "cols = list(metadata[\"var_name\"])\n",
    "cols = [c.lower() for c in cols]\n",
    "metadata[\"name_cleaned\"] = cols\n",
    "metadata.head(2)"
   ]
  },
  {
   "cell_type": "code",
   "execution_count": 24,
   "metadata": {},
   "outputs": [],
   "source": [
    "cols = []\n",
    "for r in metadata.iterrows():\n",
    "    row = r[1]\n",
    "    this_col = {}\n",
    "    this_col[\"name\"] = row[\"name_cleaned\"]\n",
    "    this_col[\"description\"] = row[\"desc\"]\n",
    "    this_col[\"type\"] = \"character\"\n",
    "    cols.append(this_col)\n",
    "    \n",
    "new_col = {}\n",
    "new_col[\"name\"] = \"file\"\n",
    "new_col[\"description\"] = \"name of source file\"\n",
    "new_col[\"type\"] = \"character\"\n",
    "cols.append(new_col)"
   ]
  },
  {
   "cell_type": "code",
   "execution_count": 35,
   "metadata": {},
   "outputs": [],
   "source": [
    "meta = {}\n",
    "meta[\"id\"] = \"flights.flightsdata\"\n",
    "meta[\"table_desc\"] = \"Flights data from http://stat-computing.org/dataexpo/2009/the-data.html\"\n",
    "meta[\"table_name\"] = \"flightsdata\"\n",
    "meta[\"data_format\"] = \"csv_quoted_nodate\"\n",
    "meta[\"location\"] = \"s3://robintest-gluenotebooks3files/flights\"\n",
    "meta[\"glue_specific\"] = {}\n",
    "meta[\"glue_specific\"][\"PartitionKeys\"] = [{\"Name\":\"file\", \"Type\":\"string\"}]\n",
    "meta[\"columns\"] = cols"
   ]
  },
  {
   "cell_type": "code",
   "execution_count": 36,
   "metadata": {},
   "outputs": [],
   "source": [
    "import json\n",
    "from dataengineeringutils.utils import write_json\n",
    "write_json(meta, \"metadata/metadata.json\")"
   ]
  },
  {
   "cell_type": "code",
   "execution_count": 47,
   "metadata": {},
   "outputs": [],
   "source": [
    "from dataengineeringutils.glue import metadata_folder_to_database\n",
    "metadata_folder_to_database(\"metadata\")"
   ]
  },
  {
   "cell_type": "code",
   "execution_count": 48,
   "metadata": {},
   "outputs": [],
   "source": [
    "from dataengineeringutils.athena import make_partitions\n",
    "temp_dir = 's3://robintest-gluenotebooks3files/glue_temp_dir/'\n",
    "make_partitions(\"flights\", \"flightsdata\", temp_dir)"
   ]
  },
  {
   "cell_type": "code",
   "execution_count": null,
   "metadata": {},
   "outputs": [],
   "source": []
  }
 ],
 "metadata": {
  "kernelspec": {
   "display_name": "Python 3",
   "language": "python",
   "name": "python3"
  },
  "language_info": {
   "codemirror_mode": {
    "name": "ipython",
    "version": 3
   },
   "file_extension": ".py",
   "mimetype": "text/x-python",
   "name": "python",
   "nbconvert_exporter": "python",
   "pygments_lexer": "ipython3",
   "version": "3.6.1"
  }
 },
 "nbformat": 4,
 "nbformat_minor": 2
}
